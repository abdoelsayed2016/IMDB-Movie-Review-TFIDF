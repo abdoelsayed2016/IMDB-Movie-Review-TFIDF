{
 "cells": [
  {
   "cell_type": "code",
   "execution_count": 6,
   "metadata": {},
   "outputs": [],
   "source": [
    "import pandas as pd\n",
    "from sklearn.utils import shuffle\n",
    "import os"
   ]
  },
  {
   "cell_type": "code",
   "execution_count": 7,
   "metadata": {},
   "outputs": [],
   "source": [
    "def readFile(fileName):\n",
    "    with open(fileName,  encoding=\"utf8\") as file:\n",
    "        data = file.read();\n",
    "    return data"
   ]
  },
  {
   "cell_type": "code",
   "execution_count": 8,
   "metadata": {},
   "outputs": [],
   "source": [
    "data=[]\n",
    "directory=\"aclImdb_v1/aclImdb/train/\";\n",
    "for folder in os.listdir(directory):\n",
    "     for file in os.listdir(directory+folder):\n",
    "        sentence=readFile(directory+folder+\"/\"+file)\n",
    "        if folder=='neg':\n",
    "            flag=0\n",
    "        elif folder =='pos':\n",
    "            flag=1\n",
    "        data.append([sentence,flag])\n",
    "            "
   ]
  },
  {
   "cell_type": "code",
   "execution_count": 9,
   "metadata": {},
   "outputs": [],
   "source": [
    "\n",
    "df=pd.DataFrame(data,columns=['review','target'])\n",
    "df = shuffle(df)\n",
    "df.to_csv('train.csv', index=False)"
   ]
  },
  {
   "cell_type": "code",
   "execution_count": 10,
   "metadata": {},
   "outputs": [],
   "source": [
    "data=[]\n",
    "directory=\"aclImdb_v1/aclImdb/test/\";\n",
    "for folder in os.listdir(directory):\n",
    "     for file in os.listdir(directory+folder):\n",
    "        sentence=readFile(directory+folder+\"/\"+file)\n",
    "        if folder=='neg':\n",
    "            flag=0\n",
    "        elif folder =='pos':\n",
    "            flag=1\n",
    "        data.append([sentence,flag])\n",
    "df=pd.DataFrame(data,columns=['review','target'])\n",
    "df = shuffle(df)\n",
    "df.to_csv('test.csv', index=False)"
   ]
  },
  {
   "cell_type": "code",
   "execution_count": null,
   "metadata": {},
   "outputs": [],
   "source": []
  }
 ],
 "metadata": {
  "kernelspec": {
   "display_name": "Python 3",
   "language": "python",
   "name": "python3"
  },
  "language_info": {
   "codemirror_mode": {
    "name": "ipython",
    "version": 3
   },
   "file_extension": ".py",
   "mimetype": "text/x-python",
   "name": "python",
   "nbconvert_exporter": "python",
   "pygments_lexer": "ipython3",
   "version": "3.6.7"
  }
 },
 "nbformat": 4,
 "nbformat_minor": 2
}
